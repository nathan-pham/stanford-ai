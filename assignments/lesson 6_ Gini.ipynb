{
 "cells": [
  {
   "cell_type": "markdown",
   "metadata": {},
   "source": [
    "![](https://i.stack.imgur.com/E7Fak.png)\n",
    "<img src=\"https://media.discordapp.net/attachments/773360898026635314/989346437324226580/unknown.png\" style=\"width: 200px\" />\n",
    "<img src=\"https://media.discordapp.net/attachments/773360898026635314/989348897736515644/unknown.png\" style=\"width: 300px\" />"
   ]
  },
  {
   "cell_type": "code",
   "execution_count": 8,
   "metadata": {},
   "outputs": [
    {
     "name": "stdout",
     "output_type": "stream",
     "text": [
      "gini_before = 0.61\n",
      "gini_after = 0.56\n"
     ]
    }
   ],
   "source": [
    "def calculate_gini(*classes):\n",
    "    total = sum(classes)\n",
    "    gini = 1 - sum([(el / total) ** 2 for el in classes])\n",
    "\n",
    "    return gini\n",
    "\n",
    "gini_before = calculate_gini(6, 2, 4)\n",
    "\n",
    "print(f\"gini_before = {gini_before:.2f}\")\n",
    "\n",
    "gini_after_left = calculate_gini(1, 3, 0)\n",
    "gini_after_right = calculate_gini(3, 3, 2)\n",
    "gini_after = 4 / 12 * gini_after_left + 8 / 12 * gini_after_right\n",
    "\n",
    "print(f\"gini_after = {gini_after:.2f}\")\n"
   ]
  }
 ],
 "metadata": {
  "kernelspec": {
   "display_name": "Python 3.9.10 64-bit",
   "language": "python",
   "name": "python3"
  },
  "language_info": {
   "codemirror_mode": {
    "name": "ipython",
    "version": 3
   },
   "file_extension": ".py",
   "mimetype": "text/x-python",
   "name": "python",
   "nbconvert_exporter": "python",
   "pygments_lexer": "ipython3",
   "version": "3.9.10"
  },
  "orig_nbformat": 4,
  "vscode": {
   "interpreter": {
    "hash": "0944a0c3b24f1c261af4dc0da5c56518cca690f2389022f5be6d63d3783b15a9"
   }
  }
 },
 "nbformat": 4,
 "nbformat_minor": 2
}
