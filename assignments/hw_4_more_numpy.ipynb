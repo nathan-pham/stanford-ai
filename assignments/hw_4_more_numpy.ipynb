{
  "nbformat": 4,
  "nbformat_minor": 0,
  "metadata": {
    "colab": {
      "name": "hw 4: more numpy.ipynb",
      "provenance": [],
      "collapsed_sections": []
    },
    "kernelspec": {
      "name": "python3",
      "display_name": "Python 3"
    },
    "language_info": {
      "name": "python"
    }
  },
  "cells": [
    {
      "cell_type": "code",
      "execution_count": null,
      "metadata": {
        "id": "1oBo8vZlCACZ"
      },
      "outputs": [],
      "source": [
        "import numpy as np\n",
        "import matplotlib.pyplot as plt"
      ]
    },
    {
      "cell_type": "markdown",
      "source": [
        "### playing with arrays"
      ],
      "metadata": {
        "id": "UO9PnTqMEM_L"
      }
    },
    {
      "cell_type": "markdown",
      "source": [
        "1. Generate a 1d `numpy` array with entries 2, 4, ..., 20. Call it `x`"
      ],
      "metadata": {
        "id": "iAtk4K2fCNqj"
      }
    },
    {
      "cell_type": "code",
      "source": [
        "# write your code here"
      ],
      "metadata": {
        "id": "RzCAYAjKCEie"
      },
      "execution_count": null,
      "outputs": []
    },
    {
      "cell_type": "markdown",
      "source": [
        "2. reshape `x` so that it has two columns and then call it `y`"
      ],
      "metadata": {
        "id": "asDYVxX6C8sk"
      }
    },
    {
      "cell_type": "code",
      "source": [
        "# write your code here"
      ],
      "metadata": {
        "id": "xTVlIzpEC6KS"
      },
      "execution_count": null,
      "outputs": []
    },
    {
      "cell_type": "markdown",
      "source": [
        "3. find the transpose of `y` and called `z`"
      ],
      "metadata": {
        "id": "F6kQqK2mDKmg"
      }
    },
    {
      "cell_type": "code",
      "source": [
        "# write your code here"
      ],
      "metadata": {
        "id": "h6u7e1PHDGAh"
      },
      "execution_count": null,
      "outputs": []
    },
    {
      "cell_type": "markdown",
      "source": [
        "5. let `w` be the third and fourt column of z"
      ],
      "metadata": {
        "id": "T-eWSVDFDgA_"
      }
    },
    {
      "cell_type": "code",
      "source": [
        "# write your code here"
      ],
      "metadata": {
        "id": "JHUNLWfNDVV8"
      },
      "execution_count": null,
      "outputs": []
    },
    {
      "cell_type": "markdown",
      "source": [
        "6. `w` should be a 2-by-2 matrix. Use numpy to compute its determinant. Can you find a numpy function that computes the determinant of a matrix. Your answer should be -8. If your answer is not -8 (or something very very very close ot -8), then you made a mistake somewhere along steps 1-6. Go back and redo. "
      ],
      "metadata": {
        "id": "hOLLBA0jDsqI"
      }
    },
    {
      "cell_type": "code",
      "source": [
        "# write your code here"
      ],
      "metadata": {
        "id": "Smuge1O-Dqck"
      },
      "execution_count": null,
      "outputs": []
    },
    {
      "cell_type": "markdown",
      "source": [
        "7. Find the sum alongs the columns of `z`. Which column has the smallest sum. Use `np.argmin` to find the answer."
      ],
      "metadata": {
        "id": "CanNpS-yExni"
      }
    },
    {
      "cell_type": "code",
      "source": [
        "# write your code here"
      ],
      "metadata": {
        "id": "KDTbA7qUFIPi"
      },
      "execution_count": null,
      "outputs": []
    },
    {
      "cell_type": "markdown",
      "source": [
        "8. define a random 1d numpy array of integers between 1 and 6 (inclusively) of size `N=1000`. How many of your entries are 1 or 2? Change your `N` to 10000 and 100000. What about now? Can you make an argument about why this number is what it is? (Hint: is this a probability of something?)"
      ],
      "metadata": {
        "id": "DDgP1nG6y5_8"
      }
    },
    {
      "cell_type": "code",
      "source": [
        "# write your code here"
      ],
      "metadata": {
        "id": "B_7d1NpAzYPp"
      },
      "execution_count": null,
      "outputs": []
    },
    {
      "cell_type": "markdown",
      "source": [
        "### input/outputs in numpy. \n",
        "\n",
        "you can save a numpy array in your computer and then load it later. Create a random numpy array of size (100, 100). Call it `x`. Save `x` under the name `my_first_numpy_array.npy` in google colab. Notice that files that are saved by numpy should have a `.npy` extension. you probably want to use `np.save` function. Go to the documentation of numpy to understand what are the parameters you need to pass to the function."
      ],
      "metadata": {
        "id": "R6PELWPbETxh"
      }
    },
    {
      "cell_type": "code",
      "source": [
        "# write your code here"
      ],
      "metadata": {
        "id": "2zKcxAPWEGW4"
      },
      "execution_count": null,
      "outputs": []
    },
    {
      "cell_type": "markdown",
      "source": [
        "You can confirm the file is correctly saved by clicking on the folder icon on the left hand side ribbon"
      ],
      "metadata": {
        "id": "O0Cz1MX51m_T"
      }
    },
    {
      "cell_type": "markdown",
      "source": [
        "Now lets load the file we just saved. use `np.load` to load the file and name it `y`."
      ],
      "metadata": {
        "id": "SSPO9_4x1SWO"
      }
    },
    {
      "cell_type": "code",
      "source": [
        "# write your code here"
      ],
      "metadata": {
        "id": "_00dCj9V1GK2"
      },
      "execution_count": null,
      "outputs": []
    },
    {
      "cell_type": "markdown",
      "source": [
        " Confirm that `x` and `y` are identical. To do so, we need to make sure `x` and `y` have identical entries. you can use `==` to do the elementwise comparision and then use `.all()` method to make sure all elementwise comparisons are `True`. "
      ],
      "metadata": {
        "id": "xMRgEqrD18mJ"
      }
    },
    {
      "cell_type": "code",
      "source": [
        "# write your code here"
      ],
      "metadata": {
        "id": "C2aF3eUj1a70"
      },
      "execution_count": null,
      "outputs": []
    },
    {
      "cell_type": "markdown",
      "source": [
        "### using numpy for plotting\n",
        "\n",
        "plot functions $f(x) = \\cos(x)$ and $g(x) = x^2$ over the interval $0\\leq x\\leq 1$. You may want to discretize the interval into 100 equally spaced sections (recall `np.linspace` can be useful). \n",
        "\n",
        "Then plot $f(x)$ and $g(x)$ using `matplotlib`. Make sure your plot has a legend that determines which graph is $f(x)$ and which graph is $g(x)$"
      ],
      "metadata": {
        "id": "k_WBrzMw2_-m"
      }
    },
    {
      "cell_type": "code",
      "source": [
        "# write your code here"
      ],
      "metadata": {
        "id": "Ig_zs2Zv1bfi"
      },
      "execution_count": null,
      "outputs": []
    },
    {
      "cell_type": "markdown",
      "source": [
        "If you plot this correctly, you will see the two functionsl intersect each other. Can you use numpy to approximate the intersection point. If you want to improve your approximation, you need to increase number of discretization."
      ],
      "metadata": {
        "id": "fRkrcMCH4Szl"
      }
    },
    {
      "cell_type": "code",
      "source": [
        "# write your code here"
      ],
      "metadata": {
        "id": "eLyEfLVs38p0"
      },
      "execution_count": null,
      "outputs": []
    }
  ]
}