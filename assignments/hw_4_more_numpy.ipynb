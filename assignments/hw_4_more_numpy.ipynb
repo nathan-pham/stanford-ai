{
  "cells": [
    {
      "cell_type": "code",
      "execution_count": 2,
      "metadata": {
        "id": "1oBo8vZlCACZ"
      },
      "outputs": [],
      "source": [
        "import numpy as np\n",
        "import matplotlib.pyplot as plt"
      ]
    },
    {
      "cell_type": "markdown",
      "metadata": {
        "id": "UO9PnTqMEM_L"
      },
      "source": [
        "### playing with arrays"
      ]
    },
    {
      "cell_type": "markdown",
      "metadata": {
        "id": "iAtk4K2fCNqj"
      },
      "source": [
        "1. Generate a 1d `numpy` array with entries 2, 4, ..., 20. Call it `x`"
      ]
    },
    {
      "cell_type": "code",
      "execution_count": 4,
      "metadata": {
        "id": "RzCAYAjKCEie"
      },
      "outputs": [
        {
          "data": {
            "text/plain": [
              "array([ 2,  4,  6,  8, 10, 12, 14, 16, 18, 20])"
            ]
          },
          "execution_count": 4,
          "metadata": {},
          "output_type": "execute_result"
        }
      ],
      "source": [
        "x = np.arange(2, 22, 2)"
      ]
    },
    {
      "cell_type": "markdown",
      "metadata": {
        "id": "asDYVxX6C8sk"
      },
      "source": [
        "2. reshape `x` so that it has two columns and then call it `y`"
      ]
    },
    {
      "cell_type": "code",
      "execution_count": 8,
      "metadata": {
        "id": "xTVlIzpEC6KS"
      },
      "outputs": [
        {
          "data": {
            "text/plain": [
              "array([[ 2,  4],\n",
              "       [ 6,  8],\n",
              "       [10, 12],\n",
              "       [14, 16],\n",
              "       [18, 20]])"
            ]
          },
          "execution_count": 8,
          "metadata": {},
          "output_type": "execute_result"
        }
      ],
      "source": [
        "y = x.reshape(-1, 2)\n",
        "y"
      ]
    },
    {
      "cell_type": "markdown",
      "metadata": {
        "id": "F6kQqK2mDKmg"
      },
      "source": [
        "3. find the transpose of `y` and called `z`"
      ]
    },
    {
      "cell_type": "code",
      "execution_count": 10,
      "metadata": {
        "id": "h6u7e1PHDGAh"
      },
      "outputs": [
        {
          "data": {
            "text/plain": [
              "array([[ 2,  6, 10, 14, 18],\n",
              "       [ 4,  8, 12, 16, 20]])"
            ]
          },
          "execution_count": 10,
          "metadata": {},
          "output_type": "execute_result"
        }
      ],
      "source": [
        "z = y.T\n",
        "z"
      ]
    },
    {
      "cell_type": "markdown",
      "metadata": {
        "id": "T-eWSVDFDgA_"
      },
      "source": [
        "5. let `w` be the third and fourt column of z"
      ]
    },
    {
      "cell_type": "code",
      "execution_count": 13,
      "metadata": {
        "id": "JHUNLWfNDVV8"
      },
      "outputs": [
        {
          "data": {
            "text/plain": [
              "array([[14, 18],\n",
              "       [16, 20]])"
            ]
          },
          "execution_count": 13,
          "metadata": {},
          "output_type": "execute_result"
        }
      ],
      "source": [
        "w = z[:, [3, 4]]\n",
        "w"
      ]
    },
    {
      "cell_type": "markdown",
      "metadata": {
        "id": "hOLLBA0jDsqI"
      },
      "source": [
        "6. `w` should be a 2-by-2 matrix. Use numpy to compute its determinant. Can you find a numpy function that computes the determinant of a matrix. Your answer should be -8. If your answer is not -8 (or something very very very close ot -8), then you made a mistake somewhere along steps 1-6. Go back and redo. "
      ]
    },
    {
      "cell_type": "code",
      "execution_count": 14,
      "metadata": {
        "id": "Smuge1O-Dqck"
      },
      "outputs": [
        {
          "data": {
            "text/plain": [
              "-7.999999999999998"
            ]
          },
          "execution_count": 14,
          "metadata": {},
          "output_type": "execute_result"
        }
      ],
      "source": [
        "np.linalg.det(w)"
      ]
    },
    {
      "cell_type": "markdown",
      "metadata": {
        "id": "CanNpS-yExni"
      },
      "source": [
        "7. Find the sum alongs the columns of `z`. Which column has the smallest sum. Use `np.argmin` to find the answer."
      ]
    },
    {
      "cell_type": "code",
      "execution_count": 19,
      "metadata": {
        "id": "KDTbA7qUFIPi"
      },
      "outputs": [
        {
          "data": {
            "text/plain": [
              "0"
            ]
          },
          "execution_count": 19,
          "metadata": {},
          "output_type": "execute_result"
        }
      ],
      "source": [
        "np.argmin(np.sum(z, axis=0))"
      ]
    },
    {
      "cell_type": "markdown",
      "metadata": {
        "id": "DDgP1nG6y5_8"
      },
      "source": [
        "8. define a random 1d numpy array of integers between 1 and 6 (inclusively) of size `N=1000`. How many of your entries are 1 or 2? Change your `N` to 10000 and 100000. What about now? Can you make an argument about why this number is what it is? (Hint: is this a probability of something?)"
      ]
    },
    {
      "cell_type": "code",
      "execution_count": 23,
      "metadata": {
        "id": "B_7d1NpAzYPp"
      },
      "outputs": [],
      "source": [
        "sizes = [1000, 10000, 100000]\n",
        "arrays = [np.random.randint(1, 6, size=size) for size in sizes]"
      ]
    },
    {
      "cell_type": "code",
      "execution_count": 31,
      "metadata": {},
      "outputs": [
        {
          "name": "stdout",
          "output_type": "stream",
          "text": [
            "0.193\n",
            "0.2032\n",
            "0.20216\n"
          ]
        }
      ],
      "source": [
        "for array in arrays: print((array == 2).sum()  / len(array))"
      ]
    },
    {
      "cell_type": "code",
      "execution_count": 32,
      "metadata": {},
      "outputs": [
        {
          "data": {
            "text/plain": [
              "0.2"
            ]
          },
          "execution_count": 32,
          "metadata": {},
          "output_type": "execute_result"
        }
      ],
      "source": [
        "1 / 5"
      ]
    },
    {
      "cell_type": "markdown",
      "metadata": {
        "id": "R6PELWPbETxh"
      },
      "source": [
        "### input/outputs in numpy. \n",
        "\n",
        "you can save a numpy array in your computer and then load it later. Create a random numpy array of size (100, 100). Call it `x`. Save `x` under the name `my_first_numpy_array.npy` in google colab. Notice that files that are saved by numpy should have a `.npy` extension. you probably want to use `np.save` function. Go to the documentation of numpy to understand what are the parameters you need to pass to the function."
      ]
    },
    {
      "cell_type": "code",
      "execution_count": 38,
      "metadata": {
        "id": "2zKcxAPWEGW4"
      },
      "outputs": [],
      "source": [
        "x = np.random.rand(100, 100)\n",
        "np.save(\"../exports/x.npy\", x)"
      ]
    },
    {
      "cell_type": "markdown",
      "metadata": {
        "id": "O0Cz1MX51m_T"
      },
      "source": [
        "You can confirm the file is correctly saved by clicking on the folder icon on the left hand side ribbon"
      ]
    },
    {
      "cell_type": "markdown",
      "metadata": {
        "id": "SSPO9_4x1SWO"
      },
      "source": [
        "Now lets load the file we just saved. use `np.load` to load the file and name it `y`."
      ]
    },
    {
      "cell_type": "code",
      "execution_count": 43,
      "metadata": {
        "id": "_00dCj9V1GK2"
      },
      "outputs": [],
      "source": [
        "y = np.load(\"../exports/x.npy\")"
      ]
    },
    {
      "cell_type": "markdown",
      "metadata": {
        "id": "xMRgEqrD18mJ"
      },
      "source": [
        " Confirm that `x` and `y` are identical. To do so, we need to make sure `x` and `y` have identical entries. you can use `==` to do the elementwise comparision and then use `.all()` method to make sure all elementwise comparisons are `True`. "
      ]
    },
    {
      "cell_type": "code",
      "execution_count": 44,
      "metadata": {
        "id": "C2aF3eUj1a70"
      },
      "outputs": [
        {
          "data": {
            "text/plain": [
              "True"
            ]
          },
          "execution_count": 44,
          "metadata": {},
          "output_type": "execute_result"
        }
      ],
      "source": [
        "np.array_equal(x, y)"
      ]
    },
    {
      "cell_type": "markdown",
      "metadata": {
        "id": "k_WBrzMw2_-m"
      },
      "source": [
        "### using numpy for plotting\n",
        "\n",
        "plot functions $f(x) = \\cos(x)$ and $g(x) = x^2$ over the interval $0\\leq x\\leq 1$. You may want to discretize the interval into 100 equally spaced sections (recall `np.linspace` can be useful). \n",
        "\n",
        "Then plot $f(x)$ and $g(x)$ using `matplotlib`. Make sure your plot has a legend that determines which graph is $f(x)$ and which graph is $g(x)$"
      ]
    },
    {
      "cell_type": "code",
      "execution_count": 60,
      "metadata": {
        "id": "Ig_zs2Zv1bfi"
      },
      "outputs": [],
      "source": [
        "x = np.linspace(0, 1, 500)\n",
        "f = np.cos(x)\n",
        "g = x ** 2"
      ]
    },
    {
      "cell_type": "code",
      "execution_count": 61,
      "metadata": {},
      "outputs": [
        {
          "data": {
            "image/png": "[encoded data removed]",
            "text/plain": [
              "<Figure size 576x576 with 1 Axes>"
            ]
          },
          "metadata": {
            "needs_background": "light"
          },
          "output_type": "display_data"
        }
      ],
      "source": [
        "plt.figure(figsize=(8, 8))\n",
        "plt.plot(x, f)\n",
        "plt.plot(x, g)\n",
        "\n",
        "idx = np.argwhere(np.diff(np.sign(f - g))).flatten()[0]\n",
        "plt.plot(x[idx], f[idx], marker=\"o\", color=\"red\")\n",
        "\n",
        "plt.legend([\"cos(x)\", \"x^2\"])\n",
        "\n",
        "plt.show()"
      ]
    }
  ],
  "metadata": {
    "colab": {
      "collapsed_sections": [],
      "name": "hw 4: more numpy.ipynb",
      "provenance": []
    },
    "kernelspec": {
      "display_name": "Python 3.9.10 64-bit",
      "language": "python",
      "name": "python3"
    },
    "language_info": {
      "codemirror_mode": {
        "name": "ipython",
        "version": 3
      },
      "file_extension": ".py",
      "mimetype": "text/x-python",
      "name": "python",
      "nbconvert_exporter": "python",
      "pygments_lexer": "ipython3",
      "version": "3.9.10"
    },
    "vscode": {
      "interpreter": {
        "hash": "0944a0c3b24f1c261af4dc0da5c56518cca690f2389022f5be6d63d3783b15a9"
      }
    }
  },
  "nbformat": 4,
  "nbformat_minor": 0
}
